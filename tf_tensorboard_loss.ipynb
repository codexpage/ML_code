{
 "cells": [
  {
   "cell_type": "code",
   "execution_count": 1,
   "metadata": {},
   "outputs": [],
   "source": [
    "import tensorflow as tf\n",
    "import numpy as np\n"
   ]
  },
  {
   "cell_type": "code",
   "execution_count": 9,
   "metadata": {},
   "outputs": [],
   "source": [
    " ## make up some data\n",
    "x_data = np.linspace(-1, 1, 300, dtype=np.float32)[:,np.newaxis]\n",
    "noise=  np.random.normal(0, 0.05, x_data.shape).astype(np.float32)\n",
    "y_data= np.square(x_data) -0.5+ noise\n"
   ]
  },
  {
   "cell_type": "code",
   "execution_count": 10,
   "metadata": {},
   "outputs": [],
   "source": [
    "def add_layer(inputs , \n",
    "              in_size, \n",
    "              out_size,n_layer, \n",
    "              activation_function=None): #这里n_layer参数标识了层号，用来画图\n",
    "    layer_name='layer%s'%n_layer #层名字\n",
    "    with tf.name_scope(layer_name):\n",
    "        with tf.name_scope('weights'):\n",
    "            Weights= tf.Variable(tf.random_normal([in_size, out_size]),name='W')\n",
    "            # tf.histogram_summary(layer_name+'/weights',Weights)\n",
    "            tf.summary.histogram(layer_name + '/weights', Weights) # tensorflow >= 0.12 对weight的变化画图\n",
    "        with tf.name_scope('biases'):\n",
    "            biases = tf.Variable(tf.zeros([1,out_size])+0.1, name='b')\n",
    "            # tf.histogram_summary(layer_name+'/biase',biases)\n",
    "            tf.summary.histogram(layer_name + '/biases', biases)  # Tensorflow >= 0.12\n",
    "\n",
    "        with tf.name_scope('Wx_plus_b'):\n",
    "            Wx_plus_b = tf.add(tf.matmul(inputs,Weights), biases)\n",
    "\n",
    "        if activation_function is None:\n",
    "            outputs=Wx_plus_b\n",
    "        else:\n",
    "            outputs= activation_function(Wx_plus_b)\n",
    "\n",
    "         # tf.histogram_summary(layer_name+'/outputs',outputs)\n",
    "        tf.summary.histogram(layer_name + '/outputs', outputs) # Tensorflow >= 0.12\n",
    "\n",
    "    return outputs"
   ]
  },
  {
   "cell_type": "code",
   "execution_count": 11,
   "metadata": {},
   "outputs": [],
   "source": [
    "# define placeholder for inputs to network\n",
    "with tf.name_scope('inputs'):\n",
    "    xs = tf.placeholder(tf.float32, [None, 1], name='x_input')\n",
    "    ys = tf.placeholder(tf.float32, [None, 1], name='y_input')\n",
    "\n",
    "    \n",
    "# add hidden layer\n",
    "l1= add_layer(xs, 1, 10, n_layer=1, activation_function=tf.nn.relu) #记得传入层号\n",
    "# add output  layer\n",
    "prediction= add_layer(l1, 10, 1, n_layer=2, activation_function=None)"
   ]
  },
  {
   "cell_type": "code",
   "execution_count": 12,
   "metadata": {},
   "outputs": [],
   "source": [
    "# the error between prediciton and real data\n",
    "with tf.name_scope('loss'):\n",
    "    loss = tf.reduce_mean(tf.reduce_sum(tf.square(ys - prediction),\n",
    "                                        reduction_indices=[1]))\n",
    "    tf.summary.scalar('loss', loss) \n",
    "    #Loss 的变化图和之前设置的方法略有不同. loss是在tesnorBorad 的event下面的, 这是由于我们使用的是tf.scalar_summary() 方法.\n",
    "\n",
    "with tf.name_scope('train'):\n",
    "    train_step = tf.train.GradientDescentOptimizer(0.1).minimize(loss)\n"
   ]
  },
  {
   "cell_type": "code",
   "execution_count": 13,
   "metadata": {},
   "outputs": [],
   "source": [
    "sess = tf.Session()\n",
    "merged = tf.summary.merge_all() #这里需要合并所有的 summaries图\n",
    "\n",
    "writer = tf.summary.FileWriter(\"logs/\", sess.graph)\n",
    "\n",
    "init = tf.global_variables_initializer()\n",
    "sess.run(init)"
   ]
  },
  {
   "cell_type": "code",
   "execution_count": 14,
   "metadata": {},
   "outputs": [],
   "source": [
    "for i in range(1000):\n",
    "    sess.run(train_step, feed_dict={xs: x_data, ys: y_data})\n",
    "    if i % 50 == 0:\n",
    "        result = sess.run(merged,\n",
    "                          feed_dict={xs: x_data, ys: y_data}) #merged 是summary型tensor，也是需要run 才有用\n",
    "        writer.add_summary(result, i) #写入文件\n",
    "\n",
    "# direct to the local dir and run this in terminal:\n",
    "# $ tensorboard --logdir logs"
   ]
  },
  {
   "cell_type": "code",
   "execution_count": 15,
   "metadata": {},
   "outputs": [
    {
     "name": "stdout",
     "output_type": "stream",
     "text": [
      "Tensor(\"Merge/MergeSummary:0\", shape=(), dtype=string)\n"
     ]
    }
   ],
   "source": []
  },
  {
   "cell_type": "code",
   "execution_count": null,
   "metadata": {},
   "outputs": [],
   "source": []
  }
 ],
 "metadata": {
  "kernelspec": {
   "display_name": "Python 3",
   "language": "python",
   "name": "python3"
  },
  "language_info": {
   "codemirror_mode": {
    "name": "ipython",
    "version": 3
   },
   "file_extension": ".py",
   "mimetype": "text/x-python",
   "name": "python",
   "nbconvert_exporter": "python",
   "pygments_lexer": "ipython3",
   "version": "3.6.5"
  }
 },
 "nbformat": 4,
 "nbformat_minor": 2
}
