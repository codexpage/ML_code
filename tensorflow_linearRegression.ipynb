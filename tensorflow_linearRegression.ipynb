{
 "cells": [
  {
   "cell_type": "code",
   "execution_count": 41,
   "metadata": {},
   "outputs": [],
   "source": [
    "import tensorflow as tf\n",
    "import numpy as np\n",
    "\n",
    "# create data\n",
    "x_data = np.random.rand(100).astype(np.float32) #100*1的随机值\n",
    "y_data = x_data*0.1 + 0.3 #直线\n"
   ]
  },
  {
   "cell_type": "code",
   "execution_count": 42,
   "metadata": {},
   "outputs": [],
   "source": [
    "Weights = tf.Variable(tf.random_uniform([1], -1.0, 1.0)) #里面可以传入tensor初始值\n",
    "biases = tf.Variable(tf.zeros([1]))\n",
    "\n",
    "y = Weights*x_data + biases #直线的形式\n",
    "\n",
    "#y是个tensor"
   ]
  },
  {
   "cell_type": "code",
   "execution_count": 43,
   "metadata": {},
   "outputs": [],
   "source": [
    "#loss fun\n",
    "loss = tf.reduce_mean(tf.square(y-y_data))"
   ]
  },
  {
   "cell_type": "code",
   "execution_count": 44,
   "metadata": {},
   "outputs": [],
   "source": [
    "#update wegiht (GD)\n",
    "optimizer = tf.train.GradientDescentOptimizer(0.5)\n",
    "train = optimizer.minimize(loss) #训练器"
   ]
  },
  {
   "cell_type": "code",
   "execution_count": 45,
   "metadata": {},
   "outputs": [],
   "source": [
    "\n",
    "# init = tf.initialize_all_variables() # tf 马上就要废弃这种写法\n",
    "init = tf.global_variables_initializer()  # 替换成这样就好  初始化函数"
   ]
  },
  {
   "cell_type": "code",
   "execution_count": 53,
   "metadata": {},
   "outputs": [
    {
     "name": "stdout",
     "output_type": "stream",
     "text": [
      "0 [-0.01211725] [0.45374817]\n",
      "20 [0.05549594] [0.32131884]\n",
      "40 [0.08689166] [0.3062793]\n",
      "60 [0.09613902] [0.30184954]\n",
      "80 [0.09886278] [0.30054477]\n",
      "100 [0.09966505] [0.30016047]\n",
      "120 [0.09990133] [0.30004728]\n",
      "140 [0.09997092] [0.30001393]\n",
      "160 [0.09999141] [0.30000412]\n",
      "180 [0.09999747] [0.30000123]\n",
      "200 [0.09999923] [0.30000037]\n"
     ]
    }
   ],
   "source": [
    "sess = tf.Session() #创建会话\n",
    "sess.run(init)          # Very important 初始化网络值\n",
    "\n",
    "for step in range(201):\n",
    "    sess.run(train) #训练200次\n",
    "    if step % 20 == 0:\n",
    "        print(step, sess.run(Weights), sess.run(biases))\n",
    "#运行结果接近  0.1 0.3"
   ]
  },
  {
   "cell_type": "code",
   "execution_count": null,
   "metadata": {},
   "outputs": [],
   "source": []
  }
 ],
 "metadata": {
  "kernelspec": {
   "display_name": "Python 3",
   "language": "python",
   "name": "python3"
  },
  "language_info": {
   "codemirror_mode": {
    "name": "ipython",
    "version": 3
   },
   "file_extension": ".py",
   "mimetype": "text/x-python",
   "name": "python",
   "nbconvert_exporter": "python",
   "pygments_lexer": "ipython3",
   "version": "3.6.5"
  }
 },
 "nbformat": 4,
 "nbformat_minor": 2
}
